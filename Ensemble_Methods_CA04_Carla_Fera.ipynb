{
  "nbformat": 4,
  "nbformat_minor": 0,
  "metadata": {
    "colab": {
      "name": "Ensemble Methods CA04 - Carla Fera.ipynb",
      "provenance": [],
      "collapsed_sections": [],
      "toc_visible": true
    },
    "kernelspec": {
      "name": "python3",
      "display_name": "Python 3"
    }
  },
  "cells": [
    {
      "cell_type": "markdown",
      "metadata": {
        "id": "EWYTcvfvVxaT",
        "colab_type": "text"
      },
      "source": [
        "# **CA04 - Ensemble Models**"
      ]
    },
    {
      "cell_type": "markdown",
      "metadata": {
        "id": "wssqpSQZ5CHL",
        "colab_type": "text"
      },
      "source": [
        "# 1. Building a Random Forest Model"
      ]
    },
    {
      "cell_type": "code",
      "metadata": {
        "id": "S8qjOino4yY2",
        "colab_type": "code",
        "colab": {}
      },
      "source": [
        "#Import all the necessary packages to run the models.\n",
        "import numpy as np\n",
        "import pandas as pd\n",
        "import matplotlib.pyplot as plt\n",
        "from sklearn.ensemble import RandomForestClassifier\n",
        "from sklearn.ensemble import AdaBoostClassifier\n",
        "from sklearn.ensemble import GradientBoostingClassifier\n",
        "from sklearn.metrics import roc_auc_score\n",
        "from xgboost.sklearn import XGBClassifier\n",
        "import re"
      ],
      "execution_count": 0,
      "outputs": []
    },
    {
      "cell_type": "code",
      "metadata": {
        "id": "iCm1ArIT5sDV",
        "colab_type": "code",
        "outputId": "ab28d7e6-bac6-4881-e87d-33c83f193aa1",
        "colab": {
          "base_uri": "https://localhost:8080/",
          "height": 538
        }
      },
      "source": [
        "#Read the csv file into a DataFrame. \n",
        "census_df = pd.read_csv('https://github.com/ArinB/MSBA-CA-03-Decision-Trees/blob/master/census_data.csv?raw=true')\n",
        "census_df"
      ],
      "execution_count": 0,
      "outputs": [
        {
          "output_type": "execute_result",
          "data": {
            "text/html": [
              "<div>\n",
              "<style scoped>\n",
              "    .dataframe tbody tr th:only-of-type {\n",
              "        vertical-align: middle;\n",
              "    }\n",
              "\n",
              "    .dataframe tbody tr th {\n",
              "        vertical-align: top;\n",
              "    }\n",
              "\n",
              "    .dataframe thead th {\n",
              "        text-align: right;\n",
              "    }\n",
              "</style>\n",
              "<table border=\"1\" class=\"dataframe\">\n",
              "  <thead>\n",
              "    <tr style=\"text-align: right;\">\n",
              "      <th></th>\n",
              "      <th>hours_per_week_bin</th>\n",
              "      <th>occupation_bin</th>\n",
              "      <th>msr_bin</th>\n",
              "      <th>capital_gl_bin</th>\n",
              "      <th>race_sex_bin</th>\n",
              "      <th>education_num_bin</th>\n",
              "      <th>education_bin</th>\n",
              "      <th>workclass_bin</th>\n",
              "      <th>age_bin</th>\n",
              "      <th>flag</th>\n",
              "      <th>y</th>\n",
              "    </tr>\n",
              "  </thead>\n",
              "  <tbody>\n",
              "    <tr>\n",
              "      <th>0</th>\n",
              "      <td>b. 31-40</td>\n",
              "      <td>b. Mid - Low</td>\n",
              "      <td>b. Mid</td>\n",
              "      <td>c. &gt; 0</td>\n",
              "      <td>c. High</td>\n",
              "      <td>c. 13</td>\n",
              "      <td>c. Bachelors</td>\n",
              "      <td>b. income</td>\n",
              "      <td>d. 36-40 &amp; 56-60</td>\n",
              "      <td>train</td>\n",
              "      <td>0</td>\n",
              "    </tr>\n",
              "    <tr>\n",
              "      <th>1</th>\n",
              "      <td>a. 0-30</td>\n",
              "      <td>e. High</td>\n",
              "      <td>c. High</td>\n",
              "      <td>a. = 0</td>\n",
              "      <td>c. High</td>\n",
              "      <td>c. 13</td>\n",
              "      <td>c. Bachelors</td>\n",
              "      <td>b. income</td>\n",
              "      <td>e. 40-55</td>\n",
              "      <td>train</td>\n",
              "      <td>0</td>\n",
              "    </tr>\n",
              "    <tr>\n",
              "      <th>2</th>\n",
              "      <td>b. 31-40</td>\n",
              "      <td>a. Low</td>\n",
              "      <td>b. Mid</td>\n",
              "      <td>a. = 0</td>\n",
              "      <td>c. High</td>\n",
              "      <td>b. 9-12</td>\n",
              "      <td>b. Mid</td>\n",
              "      <td>b. income</td>\n",
              "      <td>d. 36-40 &amp; 56-60</td>\n",
              "      <td>train</td>\n",
              "      <td>0</td>\n",
              "    </tr>\n",
              "    <tr>\n",
              "      <th>3</th>\n",
              "      <td>b. 31-40</td>\n",
              "      <td>a. Low</td>\n",
              "      <td>c. High</td>\n",
              "      <td>a. = 0</td>\n",
              "      <td>b. Mid</td>\n",
              "      <td>a. 0-8</td>\n",
              "      <td>a. Low</td>\n",
              "      <td>b. income</td>\n",
              "      <td>e. 40-55</td>\n",
              "      <td>train</td>\n",
              "      <td>0</td>\n",
              "    </tr>\n",
              "    <tr>\n",
              "      <th>4</th>\n",
              "      <td>b. 31-40</td>\n",
              "      <td>e. High</td>\n",
              "      <td>c. High</td>\n",
              "      <td>a. = 0</td>\n",
              "      <td>a. Low</td>\n",
              "      <td>c. 13</td>\n",
              "      <td>c. Bachelors</td>\n",
              "      <td>b. income</td>\n",
              "      <td>b. 26-30 &amp; 71-100</td>\n",
              "      <td>train</td>\n",
              "      <td>0</td>\n",
              "    </tr>\n",
              "    <tr>\n",
              "      <th>...</th>\n",
              "      <td>...</td>\n",
              "      <td>...</td>\n",
              "      <td>...</td>\n",
              "      <td>...</td>\n",
              "      <td>...</td>\n",
              "      <td>...</td>\n",
              "      <td>...</td>\n",
              "      <td>...</td>\n",
              "      <td>...</td>\n",
              "      <td>...</td>\n",
              "      <td>...</td>\n",
              "    </tr>\n",
              "    <tr>\n",
              "      <th>48837</th>\n",
              "      <td>b. 31-40</td>\n",
              "      <td>e. High</td>\n",
              "      <td>b. Mid</td>\n",
              "      <td>a. = 0</td>\n",
              "      <td>b. Mid</td>\n",
              "      <td>c. 13</td>\n",
              "      <td>c. Bachelors</td>\n",
              "      <td>b. income</td>\n",
              "      <td>d. 36-40 &amp; 56-60</td>\n",
              "      <td>test</td>\n",
              "      <td>0</td>\n",
              "    </tr>\n",
              "    <tr>\n",
              "      <th>48838</th>\n",
              "      <td>b. 31-40</td>\n",
              "      <td>b. Mid - Low</td>\n",
              "      <td>a. Low</td>\n",
              "      <td>a. = 0</td>\n",
              "      <td>b. Mid</td>\n",
              "      <td>b. 9-12</td>\n",
              "      <td>b. Mid</td>\n",
              "      <td>a. no income</td>\n",
              "      <td>c. 31-35 &amp; 61-70</td>\n",
              "      <td>test</td>\n",
              "      <td>0</td>\n",
              "    </tr>\n",
              "    <tr>\n",
              "      <th>48839</th>\n",
              "      <td>d. 41-50 &amp; 61-70</td>\n",
              "      <td>e. High</td>\n",
              "      <td>c. High</td>\n",
              "      <td>a. = 0</td>\n",
              "      <td>c. High</td>\n",
              "      <td>c. 13</td>\n",
              "      <td>c. Bachelors</td>\n",
              "      <td>b. income</td>\n",
              "      <td>d. 36-40 &amp; 56-60</td>\n",
              "      <td>test</td>\n",
              "      <td>0</td>\n",
              "    </tr>\n",
              "    <tr>\n",
              "      <th>48840</th>\n",
              "      <td>b. 31-40</td>\n",
              "      <td>b. Mid - Low</td>\n",
              "      <td>a. Low</td>\n",
              "      <td>c. &gt; 0</td>\n",
              "      <td>c. High</td>\n",
              "      <td>c. 13</td>\n",
              "      <td>c. Bachelors</td>\n",
              "      <td>b. income</td>\n",
              "      <td>e. 40-55</td>\n",
              "      <td>test</td>\n",
              "      <td>0</td>\n",
              "    </tr>\n",
              "    <tr>\n",
              "      <th>48841</th>\n",
              "      <td>e. 51-60</td>\n",
              "      <td>e. High</td>\n",
              "      <td>c. High</td>\n",
              "      <td>a. = 0</td>\n",
              "      <td>c. High</td>\n",
              "      <td>c. 13</td>\n",
              "      <td>c. Bachelors</td>\n",
              "      <td>b. income</td>\n",
              "      <td>c. 31-35 &amp; 61-70</td>\n",
              "      <td>test</td>\n",
              "      <td>1</td>\n",
              "    </tr>\n",
              "  </tbody>\n",
              "</table>\n",
              "<p>48842 rows × 11 columns</p>\n",
              "</div>"
            ],
            "text/plain": [
              "      hours_per_week_bin occupation_bin  msr_bin  ...            age_bin   flag  y\n",
              "0               b. 31-40   b. Mid - Low   b. Mid  ...   d. 36-40 & 56-60  train  0\n",
              "1                a. 0-30        e. High  c. High  ...           e. 40-55  train  0\n",
              "2               b. 31-40         a. Low   b. Mid  ...   d. 36-40 & 56-60  train  0\n",
              "3               b. 31-40         a. Low  c. High  ...           e. 40-55  train  0\n",
              "4               b. 31-40        e. High  c. High  ...  b. 26-30 & 71-100  train  0\n",
              "...                  ...            ...      ...  ...                ...    ... ..\n",
              "48837           b. 31-40        e. High   b. Mid  ...   d. 36-40 & 56-60   test  0\n",
              "48838           b. 31-40   b. Mid - Low   a. Low  ...   c. 31-35 & 61-70   test  0\n",
              "48839   d. 41-50 & 61-70        e. High  c. High  ...   d. 36-40 & 56-60   test  0\n",
              "48840           b. 31-40   b. Mid - Low   a. Low  ...           e. 40-55   test  0\n",
              "48841           e. 51-60        e. High  c. High  ...   c. 31-35 & 61-70   test  1\n",
              "\n",
              "[48842 rows x 11 columns]"
            ]
          },
          "metadata": {
            "tags": []
          },
          "execution_count": 2
        }
      ]
    },
    {
      "cell_type": "code",
      "metadata": {
        "id": "A53vyqUn7HvZ",
        "colab_type": "code",
        "colab": {}
      },
      "source": [
        "#Divide the dataset into training and test set by the column \"flag\". \n",
        "train_set=census_df[census_df['flag']=='train']\n",
        "test_set=census_df[census_df['flag']=='test']"
      ],
      "execution_count": 0,
      "outputs": []
    },
    {
      "cell_type": "code",
      "metadata": {
        "id": "kD1FApP07LFI",
        "colab_type": "code",
        "colab": {}
      },
      "source": [
        "#Get the dummies for the categorical variables. This will return a DataFrame with 0s and 1s.\n",
        "X_train = pd.get_dummies(train_set[['age_bin', 'capital_gl_bin', 'education_bin','hours_per_week_bin', 'msr_bin', 'occupation_bin', 'race_sex_bin','education_num_bin','workclass_bin']],drop_first=True)\n",
        "y_train=train_set['y']\n",
        "X_test=pd.get_dummies(test_set[['age_bin', 'capital_gl_bin', 'education_bin','hours_per_week_bin', 'msr_bin', 'occupation_bin', 'race_sex_bin','education_num_bin','workclass_bin']],drop_first=True)\n",
        "y_test=test_set['y']"
      ],
      "execution_count": 0,
      "outputs": []
    },
    {
      "cell_type": "code",
      "metadata": {
        "id": "XBb8oyB457Eg",
        "colab_type": "code",
        "outputId": "479869e4-070e-4242-c8f2-4a241b860519",
        "colab": {
          "base_uri": "https://localhost:8080/",
          "height": 282
        }
      },
      "source": [
        "#Run Random Forest Classifier by fitting the training data into the Classifier. Incorporate different number of n_estimators and plot the results. \n",
        "results = []\n",
        "n_estimators_options=[50,100,150,200,250,300,350,400,450,500]\n",
        "\n",
        "for trees in n_estimators_options:\n",
        "  model=RandomForestClassifier(n_estimators=trees,random_state=101)\n",
        "  model.fit(X_train,y_train)\n",
        "  y_pred = model.predict(X_test)\n",
        "  accuracy = np.mean(y_test == y_pred)\n",
        "  results.append(accuracy)\n",
        "\n",
        "plt.figure(figsize=(8,4))\n",
        "pd.Series(results,n_estimators_options).plot(color='darkblue',marker='o')\n",
        "print('AUC: ',roc_auc_score(y_test,y_pred))"
      ],
      "execution_count": 0,
      "outputs": [
        {
          "output_type": "stream",
          "text": [
            "AUC:  0.7461240259019287\n"
          ],
          "name": "stdout"
        },
        {
          "output_type": "display_data",
          "data": {
            "image/png": "[encoded data removed]",
            "text/plain": [
              "<Figure size 576x288 with 1 Axes>"
            ]
          },
          "metadata": {
            "tags": []
          }
        }
      ]
    },
    {
      "cell_type": "markdown",
      "metadata": {
        "id": "yuy00MvAB44n",
        "colab_type": "text"
      },
      "source": [
        "# 2. Building AdaBoost, Gradient Boost (classifier) and XGB Model"
      ]
    },
    {
      "cell_type": "markdown",
      "metadata": {
        "id": "PFHIIEr6B9u7",
        "colab_type": "text"
      },
      "source": [
        "## a. AdaBoost"
      ]
    },
    {
      "cell_type": "code",
      "metadata": {
        "id": "E1joSETNB86F",
        "colab_type": "code",
        "outputId": "7992c0ad-0339-4ffc-ae5a-c05a89314625",
        "colab": {
          "base_uri": "https://localhost:8080/",
          "height": 282
        }
      },
      "source": [
        "#Run AdaBoost Classifier by fitting the training data into the Classifier. Incorporate different number of n_estimators and plot the results.\n",
        "results = []\n",
        "\n",
        "for trees in n_estimators_options:\n",
        "  model=AdaBoostClassifier(n_estimators=trees,random_state=101)\n",
        "  model.fit(X_train,y_train)\n",
        "  y_pred = model.predict(X_test)\n",
        "  accuracy = np.mean(y_test == y_pred)\n",
        "  results.append(accuracy)\n",
        "\n",
        "plt.figure(figsize=(8,4))\n",
        "pd.Series(results,n_estimators_options).plot(color='violet',marker='o')\n",
        "print('AUC: ',roc_auc_score(y_test,y_pred))"
      ],
      "execution_count": 0,
      "outputs": [
        {
          "output_type": "stream",
          "text": [
            "AUC:  0.7460076328264228\n"
          ],
          "name": "stdout"
        },
        {
          "output_type": "display_data",
          "data": {
            "image/png": "[encoded data removed]",
            "text/plain": [
              "<Figure size 576x288 with 1 Axes>"
            ]
          },
          "metadata": {
            "tags": []
          }
        }
      ]
    },
    {
      "cell_type": "markdown",
      "metadata": {
        "id": "1etofnJBC9JE",
        "colab_type": "text"
      },
      "source": [
        "## b. Gradient Boost"
      ]
    },
    {
      "cell_type": "code",
      "metadata": {
        "id": "kUSylZEDDGpK",
        "colab_type": "code",
        "outputId": "09a2118e-f463-463b-c0de-d39349adb9ff",
        "colab": {
          "base_uri": "https://localhost:8080/",
          "height": 282
        }
      },
      "source": [
        "#Run Gradient Boosting Classifier by fitting the training data into the Classifier. Incorporate different number of n_estimators and plot the results.\n",
        "results = []\n",
        "\n",
        "for trees in n_estimators_options:\n",
        "  model= GradientBoostingClassifier(n_estimators=trees,random_state=101)\n",
        "  model.fit(X_train,y_train)\n",
        "  y_pred = model.predict(X_test)\n",
        "  accuracy = np.mean(y_test == y_pred)\n",
        "  results.append(accuracy)\n",
        "\n",
        "plt.figure(figsize=(8,4))\n",
        "pd.Series(results,n_estimators_options).plot(color='lightseagreen',marker='o')\n",
        "print('AUC: ',roc_auc_score(y_test,y_pred))"
      ],
      "execution_count": 0,
      "outputs": [
        {
          "output_type": "stream",
          "text": [
            "AUC:  0.7573367156640427\n"
          ],
          "name": "stdout"
        },
        {
          "output_type": "display_data",
          "data": {
            "image/png": "[encoded data removed]",
            "text/plain": [
              "<Figure size 576x288 with 1 Axes>"
            ]
          },
          "metadata": {
            "tags": []
          }
        }
      ]
    },
    {
      "cell_type": "markdown",
      "metadata": {
        "id": "seQ17gI4EA9W",
        "colab_type": "text"
      },
      "source": [
        "## c. XGBoost"
      ]
    },
    {
      "cell_type": "markdown",
      "metadata": {
        "id": "WcW0y6xIOkU6",
        "colab_type": "text"
      },
      "source": [
        "https://stackoverflow.com/questions/48645846/pythons-xgoost-valueerrorfeature-names-may-not-contain-or"
      ]
    },
    {
      "cell_type": "code",
      "metadata": {
        "id": "7BX2lxHqLpre",
        "colab_type": "code",
        "colab": {}
      },
      "source": [
        "#Take out the symbols such as \">\" or \"&\" from the column names of X_train and X_test. This is needed ro run the XGBoosting. \n",
        "regex = re.compile(r\"\\[|\\]|<|>|&\", re.IGNORECASE)\n",
        "X_train.columns = [regex.sub(\"_\", col) if any(x in str(col) for x in set(('[', ']', '<','>','&'))) else col for col in X_train.columns.values]\n",
        "X_test.columns = [regex.sub(\"_\", col) if any(x in str(col) for x in set(('[', ']', '<','>','&'))) else col for col in X_test.columns.values]"
      ],
      "execution_count": 0,
      "outputs": []
    },
    {
      "cell_type": "code",
      "metadata": {
        "id": "__x2ITOFKH0Q",
        "colab_type": "code",
        "outputId": "d0332522-b0d1-4dfc-cf41-b085fb363320",
        "colab": {
          "base_uri": "https://localhost:8080/",
          "height": 282
        }
      },
      "source": [
        "#Run XGBoost Classifier by fitting the training data into the Classifier. Incorporate different number of n_estimators and plot the results.\n",
        "results = []\n",
        "\n",
        "for trees in n_estimators_options:\n",
        "  model= XGBClassifier(n_estimators=trees,random_state=101)\n",
        "  model.fit(X_train,y_train)\n",
        "  y_pred = model.predict(X_test)\n",
        "  accuracy = np.mean(y_test == y_pred)\n",
        "  results.append(accuracy)\n",
        "\n",
        "plt.figure(figsize=(8,4))\n",
        "pd.Series(results,n_estimators_options).plot(color='darkorange',marker='o')\n",
        "print('AUC: ',roc_auc_score(y_test,y_pred))"
      ],
      "execution_count": 0,
      "outputs": [
        {
          "output_type": "stream",
          "text": [
            "AUC:  0.7601351677710052\n"
          ],
          "name": "stdout"
        },
        {
          "output_type": "display_data",
          "data": {
            "image/png": "[encoded data removed]",
            "text/plain": [
              "<Figure size 576x288 with 1 Axes>"
            ]
          },
          "metadata": {
            "tags": []
          }
        }
      ]
    },
    {
      "cell_type": "markdown",
      "metadata": {
        "id": "iavfLtcaQtfE",
        "colab_type": "text"
      },
      "source": [
        "# 3. Compare Performance"
      ]
    },
    {
      "cell_type": "code",
      "metadata": {
        "id": "90lgthxlSNj6",
        "colab_type": "code",
        "colab": {}
      },
      "source": [
        "#Reset the results list. \n",
        "results=[]"
      ],
      "execution_count": 0,
      "outputs": []
    },
    {
      "cell_type": "code",
      "metadata": {
        "id": "yw4uKWlKawUL",
        "colab_type": "code",
        "colab": {}
      },
      "source": [
        "#Run the 4 models with n_estimators=150. "
      ],
      "execution_count": 0,
      "outputs": []
    },
    {
      "cell_type": "code",
      "metadata": {
        "id": "J0RWoZyWR_AS",
        "colab_type": "code",
        "colab": {}
      },
      "source": [
        "  model=RandomForestClassifier(n_estimators=150,random_state=101)\n",
        "  model.fit(X_train,y_train)\n",
        "  y_pred = model.predict(X_test)\n",
        "  accuracy = np.mean(y_test == y_pred)\n",
        "  results.append(accuracy)\n",
        "  auc0=roc_auc_score(y_test,y_pred)"
      ],
      "execution_count": 0,
      "outputs": []
    },
    {
      "cell_type": "code",
      "metadata": {
        "id": "HykJhSdUSVON",
        "colab_type": "code",
        "colab": {}
      },
      "source": [
        "  model=AdaBoostClassifier(n_estimators=150,random_state=101)\n",
        "  model.fit(X_train,y_train)\n",
        "  y_pred = model.predict(X_test)\n",
        "  accuracy = np.mean(y_test == y_pred)\n",
        "  results.append(accuracy)\n",
        "  auc1=roc_auc_score(y_test,y_pred)"
      ],
      "execution_count": 0,
      "outputs": []
    },
    {
      "cell_type": "code",
      "metadata": {
        "id": "nM42gpluSaBn",
        "colab_type": "code",
        "colab": {}
      },
      "source": [
        "  model= GradientBoostingClassifier(n_estimators=150,random_state=101)\n",
        "  model.fit(X_train,y_train)\n",
        "  y_pred = model.predict(X_test)\n",
        "  accuracy = np.mean(y_test == y_pred)\n",
        "  results.append(accuracy)\n",
        "  auc2=roc_auc_score(y_test,y_pred)"
      ],
      "execution_count": 0,
      "outputs": []
    },
    {
      "cell_type": "code",
      "metadata": {
        "id": "lqnRQya5SmSW",
        "colab_type": "code",
        "colab": {}
      },
      "source": [
        "  model= XGBClassifier(n_estimators=150,random_state=101)\n",
        "  model.fit(X_train,y_train)\n",
        "  y_pred = model.predict(X_test)\n",
        "  accuracy = np.mean(y_test == y_pred)\n",
        "  results.append(accuracy)\n",
        "  auc3=roc_auc_score(y_test,y_pred)"
      ],
      "execution_count": 0,
      "outputs": []
    },
    {
      "cell_type": "code",
      "metadata": {
        "id": "TTzSdpx7Qz3u",
        "colab_type": "code",
        "outputId": "32470bde-be3e-43d1-a731-2f28535deb57",
        "colab": {
          "base_uri": "https://localhost:8080/",
          "height": 119
        }
      },
      "source": [
        "#Print the performance table with accuracy and AUC values from each model. \n",
        "performance_table = pd.DataFrame({'Random_Forest':[results[0],auc0],'AdaBoost':[results[1],auc1],'Gradient_Boosting':[results[2],auc2],'XGBoosting':[results[3],auc3]},index=['Accuracy','AUC'])\n",
        "print('-----------------------------------------------------------------')\n",
        "print(performance_table)\n",
        "print('-----------------------------------------------------------------')\n",
        "print('n_estimators=150,random_state=101')\n"
      ],
      "execution_count": 0,
      "outputs": [
        {
          "output_type": "stream",
          "text": [
            "-----------------------------------------------------------------\n",
            "          Random_Forest  AdaBoost  Gradient_Boosting  XGBoosting\n",
            "Accuracy       0.838216  0.845218           0.846078    0.846140\n",
            "AUC            0.747273  0.746738           0.754126    0.751472\n",
            "-----------------------------------------------------------------\n",
            "n_estimators=150,random_state=101\n"
          ],
          "name": "stdout"
        }
      ]
    }
  ]
}